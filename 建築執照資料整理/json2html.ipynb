{
 "cells": [
  {
   "cell_type": "code",
   "execution_count": 9,
   "metadata": {},
   "outputs": [
    {
     "data": {
      "text/plain": [
       "{'執照類別': '建造執照',\n",
       " '核發執照字號': '(107)府建字第00037號(01)',\n",
       " '原領執照字號': '(107)府建字第00037號',\n",
       " '變更設計次數': '01',\n",
       " '基地面積': '9918.0㎡',\n",
       " '建築面積': '58.67㎡',\n",
       " '總樓地板面積': '139.67㎡',\n",
       " '建築物高度': '16.65㎡',\n",
       " '地下避難面積': '0㎡',\n",
       " '法定空地面積': '1824.24㎡',\n",
       " '建造類別': '增建',\n",
       " '構造別': '鋼骨造',\n",
       " '地上層數': '3層',\n",
       " '地下層數': '0層',\n",
       " '棟數': '1棟',\n",
       " '戶數': '1戶',\n",
       " '起造人代表人': '協祥機械工業股份有限公司負責人：高山健',\n",
       " '設計人': '陳國Ｏ',\n",
       " '監造人': '陳國Ｏ',\n",
       " '承造人': '義格營造有限公司',\n",
       " '雜項工作物': '',\n",
       " '停車空間': '法定1輛，獎勵0輛，自設0輛',\n",
       " '發照日期': '107年01月16日',\n",
       " '實際開工日期': '000年01月07日',\n",
       " '竣工日期': '',\n",
       " 'qtime': '1070116',\n",
       " '樓層概要': [{'樓層別': 'C201棟',\n",
       "   '樓層高度': '6.0ｍ',\n",
       "   '樓層面積': '52.39㎡',\n",
       "   '樓層用途': '電梯機房、貨用電梯'},\n",
       "  {'樓層別': 'C201棟', '樓層高度': '4.2ｍ', '樓層面積': '40.5㎡', '樓層用途': '貨用電梯'},\n",
       "  {'樓層別': 'C201棟', '樓層高度': '6.15ｍ', '樓層面積': '46.78㎡', '樓層用途': '貨用電梯'}],\n",
       " '地號': [{'行政區': '新竹縣湖口鄉', '地段': '中興段新興小段', '地號母號': '0043', '地號子號': '0001'}],\n",
       " '門牌': [{'戶號': '',\n",
       "   '行政區': '新竹縣湖口鄉',\n",
       "   '村里鄰': '湖南村10鄰',\n",
       "   '路街段巷弄': '光復路',\n",
       "   '號': '3號',\n",
       "   '樓': ''}],\n",
       " '經緯': '24.87422,121.040889',\n",
       " '地址': '新竹縣湖口鄉湖南村10鄰光復路3號'}"
      ]
     },
     "execution_count": 9,
     "metadata": {},
     "output_type": "execute_result"
    }
   ],
   "source": [
    "import json\n",
    "with open(\"新竹縣107_geo.json\", \"r\") as f:\n",
    "    JSON_file = json.load(f)\n",
    "JSON_file[\"features\"][1][\"properties\"]"
   ]
  },
  {
   "cell_type": "code",
   "execution_count": 2,
   "metadata": {},
   "outputs": [
    {
     "data": {
      "text/plain": [
       "'<table border=\"1\"><thead><tr><th>樓層別</th><th>樓層高度</th><th>樓層面積</th><th>樓層用途</th></tr></thead><tbody><tr><td>C201棟</td><td>6.0ｍ</td><td>52.39㎡</td><td>電梯機房、貨用電梯</td></tr><tr><td>C201棟</td><td>4.2ｍ</td><td>40.5㎡</td><td>貨用電梯</td></tr><tr><td>C201棟</td><td>6.15ｍ</td><td>46.78㎡</td><td>貨用電梯</td></tr></tbody></table>'"
      ]
     },
     "execution_count": 2,
     "metadata": {},
     "output_type": "execute_result"
    }
   ],
   "source": [
    "from json2html import *\n",
    "json2html.convert(json = JSON_file[\"features\"][1][\"properties\"][\"樓層概要\"])"
   ]
  },
  {
   "cell_type": "code",
   "execution_count": 3,
   "metadata": {},
   "outputs": [],
   "source": [
    "import folium\n",
    "import json\n",
    "from folium.plugins import MarkerCluster, Search\n",
    "import geopandas\n",
    "from json2html import *\n",
    "Taiwan_building_map = folium.Map(location=[23.58,121], zoom_start=7)\n",
    "geojson = {\"type\": \"FeatureCollection\",\"features\":[]}\n",
    "with open(\"臺中市107_geo.json\", \"r\") as f:\n",
    "    JSON_file = json.load(f)\n",
    "building= geopandas.read_file(\"臺中市107_geo.json\")\n",
    "addressgeo = folium.GeoJson(\n",
    "    JSON_file,\n",
    "    name='建築位置',\n",
    "    show=False\n",
    ").add_to(Taiwan_building_map)\n",
    "\n",
    "statesearch = Search(\n",
    "    layer=addressgeo,\n",
    "    geom_type='Points',\n",
    "    placeholder='搜尋地址',\n",
    "    collapsed=False,\n",
    "    search_label='地址',\n",
    "    search_zoom=17,\n",
    "    weight=3,\n",
    "    #tooltip=folium.GeoJsonTooltip(fields=[\"地址\"],aliases=[\"地址\"])\n",
    ").add_to(Taiwan_building_map)\n",
    "\n",
    "marker_cluster = MarkerCluster(name=\"建築標記\").add_to(Taiwan_building_map)\n",
    "address_list=[]\n",
    "\n",
    "for i in range(len(building)):\n",
    "    try:\n",
    "        popuptext = \"<h4>{}</h4>{}\".format(JSON_file[\"features\"][i][\"properties\"][\"地址\"]\n",
    "                                           ,json2html.convert(json = JSON_file[\"features\"][i][\"properties\"][\"樓層概要\"]))\n",
    "    except:\n",
    "        popuptext = \"<h4>{}</h4>\".format(JSON_file[\"features\"][i][\"properties\"][\"地址\"])\n",
    "    test = folium.Html(popuptext, script=True)\n",
    "    popup = folium.Popup(test, max_width=300,min_width=300)\n",
    "    folium.Marker(\n",
    "      popup = popup,\n",
    "      location=[building[\"經緯\"].values[i].split(\",\")[0],building[\"經緯\"].values[i].split(\",\")[1]],\n",
    "      icon=None).add_to(marker_cluster)\n",
    "    \n",
    "folium.LayerControl().add_to(Taiwan_building_map)\n",
    "Taiwan_building_map.save('Folium_測試.html')"
   ]
  },
  {
   "cell_type": "code",
   "execution_count": null,
   "metadata": {},
   "outputs": [],
   "source": []
  }
 ],
 "metadata": {
  "kernelspec": {
   "display_name": "Python 3",
   "language": "python",
   "name": "python3"
  },
  "language_info": {
   "codemirror_mode": {
    "name": "ipython",
    "version": 3
   },
   "file_extension": ".py",
   "mimetype": "text/x-python",
   "name": "python",
   "nbconvert_exporter": "python",
   "pygments_lexer": "ipython3",
   "version": "3.7.4"
  }
 },
 "nbformat": 4,
 "nbformat_minor": 4
}
