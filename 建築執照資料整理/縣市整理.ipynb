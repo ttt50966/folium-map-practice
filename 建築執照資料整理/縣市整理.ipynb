{
  "cells": [
    {
      "cell_type": "markdown",
      "source": [
        "# GeoJson 資料整理\n",
        "```python\n",
        "import time\n",
        "from IPython.display import clear_output\n",
        "for i in range(100):\n",
        "  time.sleep(0.1)\n",
        "  print(i)\n",
        "  time.sleep(0.5)\n",
        "  clear_output()\n",
        "```"
      ],
      "metadata": {
        "nteract": {
          "transient": {
            "deleting": false
          }
        }
      }
    },
    {
      "cell_type": "code",
      "source": [
        "import json\n",
        "## 爬蟲 抓經緯度資料\n",
        "from IPython.display import clear_output\n",
        "import requests\n",
        "import time\n",
        "from selenium import webdriver\n",
        "from selenium.webdriver.support.ui import Select\n",
        "from bs4 import BeautifulSoup"
      ],
      "outputs": [],
      "execution_count": 1,
      "metadata": {
        "execution": {
          "iopub.execute_input": "2020-05-12T17:34:50.886Z",
          "iopub.status.busy": "2020-05-12T17:34:50.879Z",
          "iopub.status.idle": "2020-05-12T17:34:51.267Z",
          "shell.execute_reply": "2020-05-12T17:34:51.278Z"
        },
        "nteract": {
          "transient": {
            "deleting": false
          }
        },
        "outputExpanded": false
      }
    },
    {
      "cell_type": "markdown",
      "source": [
        "## 整理原始資料"
      ],
      "metadata": {
        "nteract": {
          "transient": {
            "deleting": false
          }
        }
      }
    },
    {
      "cell_type": "code",
      "source": [
        "filename = \"彰化縣107.json\"\n",
        "with open(filename,'r') as f:\n",
        "    data = json.load(f)\n",
        "print(len(data[\"data\"]))"
      ],
      "outputs": [
        {
          "output_type": "stream",
          "name": "stdout",
          "text": [
            "4205\n"
          ]
        }
      ],
      "execution_count": 2,
      "metadata": {
        "execution": {
          "iopub.execute_input": "2020-05-12T17:35:00.931Z",
          "iopub.status.busy": "2020-05-12T17:35:00.926Z",
          "iopub.status.idle": "2020-05-12T17:35:01.066Z",
          "shell.execute_reply": "2020-05-12T17:35:01.083Z"
        },
        "nteract": {
          "transient": {
            "deleting": false
          }
        },
        "outputExpanded": false
      }
    },
    {
      "cell_type": "code",
      "source": [
        "count = 0\n",
        "modified_data = []\n",
        "for i in data[\"data\"]:\n",
        "    try:\n",
        "        if i[\"門牌\"][0][\"號\"]!=\"\":\n",
        "            modified_data.append(i)\n",
        "            count = count+1\n",
        "    except:\n",
        "        pass\n",
        "print(count)"
      ],
      "outputs": [
        {
          "output_type": "stream",
          "name": "stdout",
          "text": [
            "129\n"
          ]
        }
      ],
      "execution_count": 49,
      "metadata": {
        "execution": {
          "iopub.execute_input": "2020-05-10T19:39:37.930Z",
          "iopub.status.busy": "2020-05-10T19:39:37.925Z",
          "iopub.status.idle": "2020-05-10T19:39:37.942Z",
          "shell.execute_reply": "2020-05-10T19:39:37.947Z"
        },
        "nteract": {
          "transient": {
            "deleting": false
          }
        },
        "outputExpanded": false
      }
    },
    {
      "cell_type": "code",
      "source": [
        "key = ['行政區','村里鄰','路街段巷弄','號','樓']\n",
        "for i in range(0,count):\n",
        "    address = \"\"\n",
        "    for k in key:\n",
        "        address = address + modified_data[i][\"門牌\"][0][k]\n",
        "  #print(\"{}:\".format(i)+address)"
      ],
      "outputs": [],
      "execution_count": 50,
      "metadata": {
        "execution": {
          "iopub.execute_input": "2020-05-10T15:03:37.041Z",
          "iopub.status.busy": "2020-05-10T15:03:37.033Z",
          "iopub.status.idle": "2020-05-10T15:03:37.051Z",
          "shell.execute_reply": "2020-05-10T15:03:37.057Z"
        },
        "nteract": {
          "transient": {
            "deleting": false
          }
        },
        "outputExpanded": false
      }
    },
    {
      "cell_type": "markdown",
      "source": [
        "## 經緯度爬蟲"
      ],
      "metadata": {
        "nteract": {
          "transient": {
            "deleting": false
          }
        }
      }
    },
    {
      "cell_type": "code",
      "source": [
        "options = webdriver.ChromeOptions()\n",
        "options.add_argument(\"headless\")\n",
        "def get_coordinate(addr):\n",
        "    browser = webdriver.Chrome(executable_path='chromedriver',options=options)\n",
        "    browser.get(\"http://www.map.com.tw/\")\n",
        "    search = browser.find_element_by_id(\"searchWord\")\n",
        "    search.clear()\n",
        "    search.send_keys(addr)\n",
        "    browser.find_element_by_xpath(\"/html/body/form/div[10]/div[2]/img[2]\").click() \n",
        "    time.sleep(1)\n",
        "    iframe = browser.find_elements_by_tag_name(\"iframe\")[1]\n",
        "    browser.switch_to.frame(iframe)\n",
        "    coor_btn = browser.find_element_by_xpath(\"/html/body/form/div[4]/table/tbody/tr[3]/td/table/tbody/tr/td[2]\")\n",
        "    coor_btn.click()\n",
        "    coor = browser.find_element_by_xpath(\"/html/body/form/div[5]/table/tbody/tr[2]/td\")\n",
        "    coor = coor.text.strip().split(\" \")\n",
        "    lat = coor[-1].split(\"：\")[-1]\n",
        "    log = coor[0].split(\"：\")[-1]\n",
        "    browser.quit()\n",
        "    return \"{},{}\".format(lat, log)"
      ],
      "outputs": [],
      "execution_count": 41,
      "metadata": {
        "execution": {
          "iopub.execute_input": "2020-05-10T15:03:40.517Z",
          "iopub.status.busy": "2020-05-10T15:03:40.511Z",
          "iopub.status.idle": "2020-05-10T15:03:40.525Z",
          "shell.execute_reply": "2020-05-10T15:03:40.530Z"
        },
        "nteract": {
          "transient": {
            "deleting": false
          }
        },
        "outputExpanded": false
      }
    },
    {
      "cell_type": "markdown",
      "source": [
        "#### 地址測試"
      ],
      "metadata": {
        "nteract": {
          "transient": {
            "deleting": false
          }
        }
      }
    },
    {
      "cell_type": "code",
      "source": [
        "get_coordinate(\"台北市大安區羅斯福路四段1號\")"
      ],
      "outputs": [
        {
          "output_type": "execute_result",
          "execution_count": 21,
          "data": {
            "text/plain": [
              "'25.017049,121.533648'"
            ]
          },
          "metadata": {}
        }
      ],
      "execution_count": 21,
      "metadata": {
        "execution": {
          "iopub.execute_input": "2020-05-10T14:51:41.599Z",
          "iopub.status.busy": "2020-05-10T14:51:41.592Z",
          "iopub.status.idle": "2020-05-10T14:53:16.344Z",
          "shell.execute_reply": "2020-05-10T14:53:16.359Z"
        },
        "nteract": {
          "transient": {
            "deleting": false
          }
        },
        "outputExpanded": false
      }
    },
    {
      "cell_type": "markdown",
      "source": [
        "### 實際爬蟲"
      ],
      "metadata": {
        "nteract": {
          "transient": {
            "deleting": false
          }
        }
      }
    },
    {
      "cell_type": "code",
      "source": [
        "for i in range(0,count):\n",
        "    address = \"\"\n",
        "    for k in key:\n",
        "        address = address + modified_data[i][\"門牌\"][0][k]\n",
        "    try:\n",
        "        modified_data[i][\"經緯\"] = get_coordinate(address)\n",
        "    except:\n",
        "        pass\n",
        "    clear_output(wait=True)\n",
        "    print(\"{} / {}\".format(i,count))"
      ],
      "outputs": [
        {
          "output_type": "stream",
          "name": "stdout",
          "text": [
            "128 / 129\n"
          ]
        }
      ],
      "execution_count": 51,
      "metadata": {
        "execution": {
          "iopub.execute_input": "2020-05-10T15:03:43.323Z",
          "iopub.status.busy": "2020-05-10T15:03:43.316Z",
          "iopub.status.idle": "2020-05-10T18:31:24.685Z",
          "shell.execute_reply": "2020-05-10T18:31:24.691Z"
        },
        "nteract": {
          "transient": {
            "deleting": false
          }
        },
        "outputExpanded": false
      }
    },
    {
      "cell_type": "code",
      "source": [
        "for i in range(0,count):\n",
        "    try:\n",
        "        #pass\n",
        "        print(modified_data[i][\"經緯\"])\n",
        "    except:\n",
        "        print(\"NAN\")"
      ],
      "outputs": [
        {
          "output_type": "stream",
          "name": "stdout",
          "text": [
            "23.563068,119.564461\n",
            "23.56749,119.5678\n",
            "23.562278,119.568248\n",
            "23.57583,119.571197\n",
            "23.569938,119.567311\n",
            "23.52435,119.597855\n",
            "23.563999,119.58623\n",
            "23.562937,119.565685\n",
            "23.56343,119.564139\n",
            "23.562979,119.566566\n",
            "23.564275,119.567747\n",
            "23.569932,119.569133\n",
            "23.57373,119.57491\n",
            "23.563999,119.58623\n",
            "23.575942,119.574969\n",
            "23.575833,119.573528\n",
            "23.572841,119.571017\n",
            "23.582886,119.608761\n",
            "23.583527,119.578591\n",
            "23.583566,119.578506\n",
            "23.583597,119.57842\n",
            "23.559662,119.637412\n",
            "23.575181,119.575798\n",
            "23.578692,119.57118\n",
            "23.530461,119.602611\n",
            "23.577588,119.577058\n",
            "23.565089,119.565674\n",
            "23.528347,119.600843\n",
            "23.575273,119.569735\n",
            "23.569906,119.56883\n",
            "23.522485,119.59961\n",
            "23.567017,119.584037\n",
            "23.574079,119.580515\n",
            "23.574098,119.580457\n",
            "23.574125,119.580388\n",
            "23.573922,119.58169\n",
            "23.57458,119.577112\n",
            "23.575145,119.573508\n",
            "23.656008,119.557076\n",
            "23.522225,119.602297\n",
            "23.530426,119.602685\n",
            "23.578641,119.571365\n",
            "23.577629,119.569687\n",
            "23.572595,119.568247\n",
            "23.575926,119.575376\n",
            "23.523792,119.603553\n",
            "23.530306,119.601347\n",
            "23.563068,119.564461\n",
            "23.577528,119.57699\n",
            "23.575511,119.569445\n",
            "23.564207,119.560486\n",
            "23.57418,119.580232\n",
            "23.577497,119.576974\n",
            "23.56622492,119.57877553\n",
            "23.56622492,119.57877553\n",
            "23.56622492,119.57877553\n",
            "23.56622492,119.57877553\n",
            "23.56622492,119.57877553\n",
            "23.56622492,119.57877553\n",
            "23.525225,119.599579\n",
            "23.525267,119.599472\n",
            "23.525052,119.603059\n",
            "23.56622492,119.57877553\n",
            "23.56622492,119.57877553\n",
            "23.573304,119.566747\n",
            "23.563999,119.58623\n",
            "23.56141,119.580724\n",
            "23.561323,119.580999\n",
            "23.561303,119.581113\n",
            "23.572797,119.575592\n",
            "23.52435,119.597855\n",
            "23.525746,119.602906\n",
            "23.57583,119.571197\n",
            "23.561284,119.581196\n",
            "23.576813,119.576207\n",
            "23.569222,119.570717\n",
            "23.574385,119.568453\n",
            "23.522701,119.599849\n",
            "23.562603,119.586203\n",
            "23.559862,119.581695\n",
            "23.559888,119.581651\n",
            "23.559835,119.581726\n",
            "23.559807,119.581762\n",
            "23.569938,119.567311\n",
            "23.575256,119.569785\n",
            "23.573096,119.567276\n",
            "23.573084,119.567317\n",
            "23.577336,119.571162\n",
            "23.522369,119.601137\n",
            "23.573405,119.572499\n",
            "23.573922,119.58169\n",
            "23.562584,119.586555\n",
            "23.562503,119.586528\n",
            "23.562596,119.586498\n",
            "23.576463,119.570252\n",
            "23.557151,119.579759\n",
            "23.524766,119.599023\n",
            "23.57089,119.57174\n",
            "23.570874,119.571763\n",
            "23.557079,119.579951\n",
            "23.567393,119.56445\n",
            "23.575182,119.573557\n",
            "23.524061,119.597903\n",
            "23.576468,119.570214\n",
            "23.572473,119.570653\n",
            "23.577435,119.57185\n",
            "23.572527,119.570544\n",
            "23.562278,119.568248\n",
            "23.575247,119.567667\n",
            "23.604524,119.623313\n",
            "23.741617,119.610692\n",
            "23.564655,119.565153\n",
            "23.564787,119.566699\n",
            "23.668398,119.598666\n",
            "23.559314,119.581067\n",
            "23.195686,119.418875\n",
            "23.571539,119.57396\n",
            "23.56622492,119.57877553\n",
            "23.519482,119.576437\n",
            "23.563079,119.566361\n",
            "23.571265,119.570031\n",
            "23.571364,119.569962\n",
            "23.571346,119.570021\n",
            "23.562905,119.584179\n",
            "23.572821,119.578893\n",
            "23.573703,119.5749\n",
            "23.57373,119.57491\n",
            "23.563969,119.560047\n",
            "23.593341,119.615441\n"
          ]
        }
      ],
      "execution_count": 52,
      "metadata": {
        "execution": {
          "iopub.execute_input": "2020-05-10T18:31:32.396Z",
          "iopub.status.busy": "2020-05-10T18:31:32.392Z",
          "iopub.status.idle": "2020-05-10T18:31:32.496Z",
          "shell.execute_reply": "2020-05-10T18:31:32.548Z"
        },
        "nteract": {
          "transient": {
            "deleting": false
          }
        },
        "outputExpanded": false
      }
    },
    {
      "cell_type": "code",
      "source": [
        "modified_data[1]"
      ],
      "outputs": [
        {
          "output_type": "execute_result",
          "execution_count": 53,
          "data": {
            "text/plain": [
              "{'執照類別': '建造執照',\n",
              " '核發執照字號': '(105)澎府建許字第034號',\n",
              " '原領執照字號': '(105)澎府建許字第034號',\n",
              " '變更設計次數': '01',\n",
              " '基地面積': '311.0㎡',\n",
              " '建築面積': '231.86㎡',\n",
              " '總樓地板面積': '690.74㎡',\n",
              " '建築物高度': '14.1㎡',\n",
              " '地下避難面積': '87.56㎡',\n",
              " '法定空地面積': '7.51㎡',\n",
              " '建造類別': '改建',\n",
              " '構造別': '鋼筋混凝土構造',\n",
              " '地上層數': '4層',\n",
              " '地下層數': '1層',\n",
              " '棟數': '1棟',\n",
              " '戶數': '1戶',\n",
              " '起造人代表人': '玉山商業銀行股份有限公司負責人:曾國烈',\n",
              " '設計人': '吳坤Ｏ',\n",
              " '監造人': '吳坤Ｏ',\n",
              " '承造人': '圓馥營造有限公司',\n",
              " '雜項工作物': '',\n",
              " '停車空間': '法定0輛，獎勵0輛，自設0輛',\n",
              " '發照日期': '106年07月26日',\n",
              " '實際開工日期': '',\n",
              " '竣工日期': '',\n",
              " 'qtime': '1060726',\n",
              " '樓層概要': [{'樓層別': '', '樓層高度': '4.0ｍ', '樓層面積': '229.26㎡', '樓層用途': 'G1銀行'},\n",
              "  {'樓層別': '', '樓層高度': '3.4ｍ', '樓層面積': '231.86㎡', '樓層用途': 'G2辦公廳'},\n",
              "  {'樓層別': '', '樓層高度': '3.4ｍ', '樓層面積': '229.62㎡', '樓層用途': 'G2辦公廳'}],\n",
              " '地號': [{'行政區': '澎湖縣馬公市', '地段': '馬公段', '地號母號': '1565', '地號子號': '0000'},\n",
              "  {'行政區': '澎湖縣馬公市', '地段': '馬公段', '地號母號': '1571', '地號子號': '0000'},\n",
              "  {'行政區': '澎湖縣馬公市', '地段': '馬公段', '地號母號': '1572', '地號子號': '0003'}],\n",
              " '門牌': [{'戶號': '',\n",
              "   '行政區': '澎湖縣馬公市',\n",
              "   '村里鄰': '',\n",
              "   '路街段巷弄': '民生路',\n",
              "   '號': '2號',\n",
              "   '樓': ''}],\n",
              " '經緯': '23.56749,119.5678'}"
            ]
          },
          "metadata": {}
        }
      ],
      "execution_count": 53,
      "metadata": {
        "execution": {
          "iopub.execute_input": "2020-05-10T18:31:53.417Z",
          "iopub.status.busy": "2020-05-10T18:31:53.412Z",
          "iopub.status.idle": "2020-05-10T18:31:53.427Z",
          "shell.execute_reply": "2020-05-10T18:31:53.431Z"
        },
        "nteract": {
          "transient": {
            "deleting": false
          }
        },
        "outputExpanded": false
      }
    },
    {
      "cell_type": "code",
      "source": [
        "for building in modified_data:\n",
        "    key = ['行政區','村里鄰','路街段巷弄','號','樓']\n",
        "    address = \"\"\n",
        "    for k in key:\n",
        "        address = address + building[\"門牌\"][0][k]\n",
        "    building[\"地址\"]= address\n",
        "with open(filename[:-5]+\"_modified.json\", \"w\") as f:\n",
        "    f.write(json.dumps(modified_data))"
      ],
      "outputs": [],
      "execution_count": 54,
      "metadata": {
        "execution": {
          "iopub.execute_input": "2020-05-10T18:31:58.612Z",
          "iopub.status.busy": "2020-05-10T18:31:58.601Z",
          "iopub.status.idle": "2020-05-10T18:31:58.669Z",
          "shell.execute_reply": "2020-05-10T18:31:58.673Z"
        },
        "nteract": {
          "transient": {
            "deleting": false
          }
        },
        "outputExpanded": false
      }
    },
    {
      "cell_type": "code",
      "source": [
        "import json\n",
        "building_position = []\n",
        "geojson = {\"type\": \"FeatureCollection\",\"features\":[]}\n",
        "with open(filename[:-5]+\"_modified.json\", \"r\") as f:\n",
        "    JSON_file = json.load(f)\n",
        "    \n",
        "    for item in JSON_file:\n",
        "        try:\n",
        "            feature= {\n",
        "                  \"type\": \"Feature\",\n",
        "                  \"geometry\" : {\n",
        "                      \"type\": \"Point\",\n",
        "                      \"coordinates\": [item[\"經緯\"].split(\",\")[1],item[\"經緯\"].split(\",\")[0]]\n",
        "                      },\n",
        "                  \"properties\" : item,\n",
        "            }\n",
        "            geojson[\"features\"].append(feature)\n",
        "        except:\n",
        "            pass\n",
        "len(geojson[\"features\"])\n",
        "\n",
        "with open(filename[:-5]+\"_geo.json\",\"w\") as f:\n",
        "    f.write(json.dumps(geojson))"
      ],
      "outputs": [],
      "execution_count": 55,
      "metadata": {
        "execution": {
          "iopub.execute_input": "2020-05-10T18:47:37.053Z",
          "iopub.status.busy": "2020-05-10T18:47:37.048Z",
          "iopub.status.idle": "2020-05-10T18:47:37.303Z",
          "shell.execute_reply": "2020-05-10T18:47:37.298Z"
        },
        "nteract": {
          "transient": {
            "deleting": false
          }
        },
        "outputExpanded": false
      }
    },
    {
      "cell_type": "code",
      "source": [
        "import folium\n",
        "from folium.plugins import MarkerCluster, Search\n",
        "import geopandas\n",
        "from json2html import *\n",
        "Taiwan_building_map = folium.Map(location=[23.58,121], zoom_start=7)\n",
        "geojson = {\"type\": \"FeatureCollection\",\"features\":[]}\n",
        "with open(filename[:-5]+\"_geo.json\", \"r\") as f:\n",
        "    JSON_file = json.load(f)\n",
        "building= geopandas.read_file(filename[:-5]+\"_geo.json\")\n",
        "addressgeo = folium.GeoJson(\n",
        "    JSON_file,\n",
        "    name='建築位置',\n",
        "    show=False\n",
        ").add_to(Taiwan_building_map)\n",
        "\n",
        "statesearch = Search(\n",
        "    layer=addressgeo,\n",
        "    geom_type='Points',\n",
        "    placeholder='搜尋地址',\n",
        "    collapsed=False,\n",
        "    search_label='地址',\n",
        "    search_zoom=17,\n",
        "    weight=3,\n",
        "    #tooltip=folium.GeoJsonTooltip(fields=[\"地址\"],aliases=[\"地址\"])\n",
        ").add_to(Taiwan_building_map)\n",
        "\n",
        "marker_cluster = MarkerCluster(name=\"建築標記\").add_to(Taiwan_building_map)\n",
        "address_list=[]\n",
        "\n",
        "for i in range(len(building)):\n",
        "    try:\n",
        "        popuptext = \"<h4>{}</h4>{}\".format(JSON_file[\"features\"][i][\"properties\"][\"地址\"]\n",
        "                                           ,json2html.convert(json = JSON_file[\"features\"][i][\"properties\"][\"樓層概要\"]))\n",
        "    except:\n",
        "        popuptext = \"<h4>{}</h4>\".format(JSON_file[\"features\"][i][\"properties\"][\"地址\"])\n",
        "    test = folium.Html(popuptext, script=True)\n",
        "    popup = folium.Popup(test, max_width=300,min_width=300)\n",
        "    folium.Marker(\n",
        "      popup = popup,\n",
        "      location=[building[\"經緯\"].values[i].split(\",\")[0],building[\"經緯\"].values[i].split(\",\")[1]],\n",
        "      icon=None).add_to(marker_cluster)\n",
        "    \n",
        "folium.LayerControl().add_to(Taiwan_building_map)\n",
        "Taiwan_building_map.save('Folium_測試.html')"
      ],
      "outputs": [],
      "execution_count": 3,
      "metadata": {
        "execution": {
          "iopub.execute_input": "2020-05-12T17:35:13.776Z",
          "iopub.status.busy": "2020-05-12T17:35:13.771Z",
          "iopub.status.idle": "2020-05-12T17:35:19.429Z",
          "shell.execute_reply": "2020-05-12T17:35:19.435Z"
        },
        "nteract": {
          "transient": {
            "deleting": false
          }
        },
        "outputExpanded": false
      }
    },
    {
      "cell_type": "code",
      "source": [],
      "outputs": [],
      "execution_count": null,
      "metadata": {
        "collapsed": true,
        "jupyter": {
          "outputs_hidden": true,
          "source_hidden": false
        },
        "nteract": {
          "transient": {
            "deleting": false
          }
        },
        "outputExpanded": false
      }
    }
  ],
  "metadata": {
    "kernel_info": {
      "name": "python3"
    },
    "kernelspec": {
      "display_name": "Python 3",
      "language": "python",
      "name": "python3"
    },
    "language_info": {
      "name": "python",
      "version": "3.7.4",
      "mimetype": "text/x-python",
      "codemirror_mode": {
        "name": "ipython",
        "version": 3
      },
      "pygments_lexer": "ipython3",
      "nbconvert_exporter": "python",
      "file_extension": ".py"
    },
    "nteract": {
      "version": "0.23.1"
    }
  },
  "nbformat": 4,
  "nbformat_minor": 4
}