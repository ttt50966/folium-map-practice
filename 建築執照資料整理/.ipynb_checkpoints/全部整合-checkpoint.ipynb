{
 "cells": [
  {
   "cell_type": "code",
   "execution_count": 1,
   "metadata": {},
   "outputs": [],
   "source": [
    "import json\n",
    "file = [\n",
    "    \"南投縣107_geo.json\",\n",
    "    \"嘉義市107_geo.json\",\n",
    "    \"嘉義縣107_geo.json\",\n",
    "    \"基隆市107_geo.json\",\n",
    "    \"宜蘭縣107_geo.json\",\n",
    "    \"彰化縣107_geo.json\",\n",
    "    \"新北市107_geo.json\",\n",
    "    \"新竹市107_geo.json\",\n",
    "    \"新竹縣107_geo.json\",\n",
    "    \"桃園市107_geo.json\",\n",
    "    \"臺中市107_geo.json\",\n",
    "    \"苗栗縣107_geo.json\",\n",
    "    \"雲林縣107_geo.json\",\n",
    "    \"高雄市107_geo.json\"\n",
    "]"
   ]
  },
  {
   "cell_type": "code",
   "execution_count": 11,
   "metadata": {},
   "outputs": [],
   "source": [
    "total_geojson = {\"type\": \"FeatureCollection\",\"features\":[]}\n",
    "for item in file:\n",
    "    with open(item,\"r\") as f:\n",
    "        data = json.load(f)\n",
    "        for i in data[\"features\"]:\n",
    "            total_geojson[\"features\"].append(i)\n",
    "with open(\"total_geo.json\",\"w\") as f:\n",
    "    f.write(json.dumps(total_geojson))"
   ]
  },
  {
   "cell_type": "code",
   "execution_count": 12,
   "metadata": {},
   "outputs": [],
   "source": [
    "import folium\n",
    "from folium.plugins import MarkerCluster, Search\n",
    "import geopandas\n",
    "from json2html import *\n",
    "Taiwan_building_map = folium.Map(location=[23.58,121], zoom_start=7)\n",
    "\n",
    "with open(\"total_geo.json\", \"r\") as f:\n",
    "    JSON_file = json.load(f)\n",
    "building= geopandas.read_file(\"total_geo.json\")\n",
    "addressgeo = folium.GeoJson(\n",
    "    JSON_file,\n",
    "    name='建築位置',\n",
    "    show=False\n",
    ").add_to(Taiwan_building_map)\n",
    "\n",
    "statesearch = Search(\n",
    "    layer=addressgeo,\n",
    "    geom_type='Points',\n",
    "    placeholder='搜尋地址',\n",
    "    collapsed=False,\n",
    "    search_label='地址',\n",
    "    search_zoom=17,\n",
    "    weight=3,\n",
    "    #tooltip=folium.GeoJsonTooltip(fields=[\"地址\"],aliases=[\"地址\"])\n",
    ").add_to(Taiwan_building_map)\n",
    "\n",
    "marker_cluster = MarkerCluster(name=\"建築標記\").add_to(Taiwan_building_map)\n",
    "address_list=[]\n",
    "\n",
    "for i in range(len(building)):\n",
    "    try:\n",
    "        popuptext = \"<h4>{}</h4>{}\".format(JSON_file[\"features\"][i][\"properties\"][\"地址\"]\n",
    "                                           ,json2html.convert(json = JSON_file[\"features\"][i][\"properties\"][\"樓層概要\"]))\n",
    "    except:\n",
    "        popuptext = \"<h4>{}</h4>\".format(JSON_file[\"features\"][i][\"properties\"][\"地址\"])\n",
    "    test = folium.Html(popuptext, script=True)\n",
    "    popup = folium.Popup(test, max_width=300,min_width=300)\n",
    "    folium.Marker(\n",
    "      popup = popup,\n",
    "      location=[building[\"經緯\"].values[i].split(\",\")[0],building[\"經緯\"].values[i].split(\",\")[1]],\n",
    "      icon=None).add_to(marker_cluster)\n",
    "    \n",
    "folium.LayerControl().add_to(Taiwan_building_map)\n",
    "Taiwan_building_map.save('Folium_測試全部.html')"
   ]
  },
  {
   "cell_type": "code",
   "execution_count": null,
   "metadata": {},
   "outputs": [],
   "source": []
  }
 ],
 "metadata": {
  "kernelspec": {
   "display_name": "Python 3",
   "language": "python",
   "name": "python3"
  },
  "language_info": {
   "codemirror_mode": {
    "name": "ipython",
    "version": 3
   },
   "file_extension": ".py",
   "mimetype": "text/x-python",
   "name": "python",
   "nbconvert_exporter": "python",
   "pygments_lexer": "ipython3",
   "version": "3.7.4"
  }
 },
 "nbformat": 4,
 "nbformat_minor": 4
}
