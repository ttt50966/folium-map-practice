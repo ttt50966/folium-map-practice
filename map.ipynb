{
 "cells": [
  {
   "cell_type": "code",
   "execution_count": 1,
   "metadata": {
    "collapsed": true,
    "execution": {
     "iopub.execute_input": "2020-04-27T18:06:27.348Z",
     "iopub.status.busy": "2020-04-27T18:06:27.345Z",
     "iopub.status.idle": "2020-04-27T18:06:29.019Z",
     "shell.execute_reply": "2020-04-27T18:06:29.021Z"
    },
    "jupyter": {
     "outputs_hidden": false,
     "source_hidden": false
    },
    "nteract": {
     "transient": {
      "deleting": false
     }
    },
    "outputExpanded": false
   },
   "outputs": [],
   "source": [
    "import pandas as pd\n",
    "import folium\n",
    "data = pd.read_csv(\"106年火災事件資料.csv\")"
   ]
  },
  {
   "cell_type": "code",
   "execution_count": 2,
   "metadata": {
    "collapsed": true,
    "execution": {
     "iopub.execute_input": "2020-04-27T18:06:48.585Z",
     "iopub.status.busy": "2020-04-27T18:06:48.579Z",
     "iopub.status.idle": "2020-04-27T18:06:48.610Z",
     "shell.execute_reply": "2020-04-27T18:06:48.621Z"
    },
    "jupyter": {
     "outputs_hidden": false,
     "source_hidden": false
    },
    "nteract": {
     "transient": {
      "deleting": false
     }
    },
    "outputExpanded": false
   },
   "outputs": [
    {
     "data": {
      "text/html": [
       "<div>\n",
       "<style scoped>\n",
       "    .dataframe tbody tr th:only-of-type {\n",
       "        vertical-align: middle;\n",
       "    }\n",
       "\n",
       "    .dataframe tbody tr th {\n",
       "        vertical-align: top;\n",
       "    }\n",
       "\n",
       "    .dataframe thead th {\n",
       "        text-align: right;\n",
       "    }\n",
       "</style>\n",
       "<table border=\"1\" class=\"dataframe\">\n",
       "  <thead>\n",
       "    <tr style=\"text-align: right;\">\n",
       "      <th></th>\n",
       "      <th>區域</th>\n",
       "      <th>數量</th>\n",
       "    </tr>\n",
       "  </thead>\n",
       "  <tbody>\n",
       "    <tr>\n",
       "      <td>0</td>\n",
       "      <td>沙鹿區</td>\n",
       "      <td>401</td>\n",
       "    </tr>\n",
       "    <tr>\n",
       "      <td>1</td>\n",
       "      <td>南區</td>\n",
       "      <td>393</td>\n",
       "    </tr>\n",
       "    <tr>\n",
       "      <td>2</td>\n",
       "      <td>安南區</td>\n",
       "      <td>381</td>\n",
       "    </tr>\n",
       "    <tr>\n",
       "      <td>3</td>\n",
       "      <td>彰化市</td>\n",
       "      <td>350</td>\n",
       "    </tr>\n",
       "    <tr>\n",
       "      <td>4</td>\n",
       "      <td>中山區</td>\n",
       "      <td>347</td>\n",
       "    </tr>\n",
       "    <tr>\n",
       "      <td>...</td>\n",
       "      <td>...</td>\n",
       "      <td>...</td>\n",
       "    </tr>\n",
       "    <tr>\n",
       "      <td>350</td>\n",
       "      <td>大同鄉</td>\n",
       "      <td>2</td>\n",
       "    </tr>\n",
       "    <tr>\n",
       "      <td>351</td>\n",
       "      <td>牡丹鄉</td>\n",
       "      <td>2</td>\n",
       "    </tr>\n",
       "    <tr>\n",
       "      <td>352</td>\n",
       "      <td>西區</td>\n",
       "      <td>1</td>\n",
       "    </tr>\n",
       "    <tr>\n",
       "      <td>353</td>\n",
       "      <td>泰武鄉</td>\n",
       "      <td>1</td>\n",
       "    </tr>\n",
       "    <tr>\n",
       "      <td>354</td>\n",
       "      <td>鹿谷鄉</td>\n",
       "      <td>1</td>\n",
       "    </tr>\n",
       "  </tbody>\n",
       "</table>\n",
       "<p>355 rows × 2 columns</p>\n",
       "</div>"
      ],
      "text/plain": [
       "      區域   數量\n",
       "0    沙鹿區  401\n",
       "1     南區  393\n",
       "2    安南區  381\n",
       "3    彰化市  350\n",
       "4    中山區  347\n",
       "..   ...  ...\n",
       "350  大同鄉    2\n",
       "351  牡丹鄉    2\n",
       "352  西區     1\n",
       "353  泰武鄉    1\n",
       "354  鹿谷鄉    1\n",
       "\n",
       "[355 rows x 2 columns]"
      ]
     },
     "execution_count": 2,
     "metadata": {},
     "output_type": "execute_result"
    }
   ],
   "source": [
    "data_modified = data[(data[\"縣市\"]!=\"高雄港\") & (data[\"縣市\"]!=\"臺中港\")]\n",
    "df = pd.DataFrame()\n",
    "df[\"區域\"] = pd.Series(data_modified[\"鄉_鎮_市_區\"].value_counts().index.values)\n",
    "df[\"數量\"] = pd.Series(data_modified[\"鄉_鎮_市_區\"].value_counts().values)\n",
    "df"
   ]
  },
  {
   "cell_type": "code",
   "execution_count": 3,
   "metadata": {
    "collapsed": true,
    "execution": {
     "iopub.execute_input": "2020-04-27T18:06:52.431Z",
     "iopub.status.busy": "2020-04-27T18:06:52.424Z",
     "iopub.status.idle": "2020-04-27T18:07:01.520Z",
     "shell.execute_reply": "2020-04-27T18:07:01.522Z"
    },
    "jupyter": {
     "outputs_hidden": false,
     "source_hidden": false
    },
    "nteract": {
     "transient": {
      "deleting": false
     }
    },
    "outputExpanded": false
   },
   "outputs": [],
   "source": [
    "Taiwan_map = folium.Map(location=[23.58,121], zoom_start=7)\n",
    "folium.Choropleth(\n",
    "    geo_data=\"鄉鎮市區行政區域界線.json\",\n",
    "    name='choropleth',\n",
    "    data = df,\n",
    "    fill_color='YlGnBu',\n",
    "    columns=[\"區域\",\"數量\"],\n",
    "    key_on='feature.properties.T_Name',\n",
    ").add_to(Taiwan_map)\n",
    "\n",
    "#display(Taiwan_map)\n",
    "Taiwan_map.save('Folium_火災統計.html')"
   ]
  },
  {
   "cell_type": "code",
   "execution_count": null,
   "metadata": {
    "collapsed": true,
    "jupyter": {
     "outputs_hidden": false,
     "source_hidden": false
    },
    "nteract": {
     "transient": {
      "deleting": false
     }
    },
    "outputExpanded": false
   },
   "outputs": [],
   "source": []
  }
 ],
 "metadata": {
  "kernel_info": {
   "name": "python3"
  },
  "kernelspec": {
   "display_name": "Python 3",
   "language": "python",
   "name": "python3"
  },
  "language_info": {
   "codemirror_mode": {
    "name": "ipython",
    "version": 3
   },
   "file_extension": ".py",
   "mimetype": "text/x-python",
   "name": "python",
   "nbconvert_exporter": "python",
   "pygments_lexer": "ipython3",
   "version": "3.7.4"
  },
  "nteract": {
   "version": "0.22.4"
  }
 },
 "nbformat": 4,
 "nbformat_minor": 1
}
