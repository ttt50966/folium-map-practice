{
  "cells": [
    {
      "cell_type": "code",
      "source": [
        "import os\n",
        "import pandas as pd\n",
        "import json\n",
        "data_car_A2 = pd.read_csv(\"108年度A2類交通事故資料.csv\")\n",
        "GeoJsonArr = [file for file in os.listdir(\"./建築執照資料整理\") if file.endswith(\"geo.json\")]"
      ],
      "outputs": [],
      "execution_count": 4,
      "metadata": {
        "collapsed": true,
        "outputExpanded": false,
        "jupyter": {
          "source_hidden": false,
          "outputs_hidden": false
        },
        "nteract": {
          "transient": {
            "deleting": false
          }
        },
        "execution": {
          "iopub.status.busy": "2020-05-14T17:27:03.554Z",
          "iopub.execute_input": "2020-05-14T17:27:03.558Z",
          "iopub.status.idle": "2020-05-14T17:27:05.566Z",
          "shell.execute_reply": "2020-05-14T17:27:05.568Z"
        }
      }
    },
    {
      "cell_type": "code",
      "source": [
        "GeoJsonArr[0][:3]"
      ],
      "outputs": [
        {
          "output_type": "execute_result",
          "execution_count": 7,
          "data": {
            "text/plain": [
              "'桃園市'"
            ]
          },
          "metadata": {}
        }
      ],
      "execution_count": 7,
      "metadata": {
        "collapsed": true,
        "outputExpanded": false,
        "jupyter": {
          "source_hidden": false,
          "outputs_hidden": false
        },
        "nteract": {
          "transient": {
            "deleting": false
          }
        },
        "execution": {
          "iopub.status.busy": "2020-05-14T16:24:36.869Z",
          "iopub.execute_input": "2020-05-14T16:24:36.873Z",
          "iopub.status.idle": "2020-05-14T16:24:36.881Z",
          "shell.execute_reply": "2020-05-14T16:24:36.884Z"
        }
      }
    },
    {
      "cell_type": "code",
      "source": [
        "for 縣市 in GeoJsonArr:\n",
        "  modified_data = data_car_A2[data_car_A2[\"發生地點\"].str[:3]==縣市[:3]]\n",
        "  with open(縣市[:3]+\"_A2.csv\", \"w\") as f:\n",
        "    f.write(modified_data.to_csv())\n"
      ],
      "outputs": [],
      "execution_count": 20,
      "metadata": {
        "collapsed": true,
        "outputExpanded": false,
        "jupyter": {
          "source_hidden": false,
          "outputs_hidden": false
        },
        "nteract": {
          "transient": {
            "deleting": false
          }
        },
        "execution": {
          "iopub.status.busy": "2020-05-14T16:31:05.465Z",
          "iopub.execute_input": "2020-05-14T16:31:05.468Z",
          "iopub.status.idle": "2020-05-14T16:31:09.512Z",
          "shell.execute_reply": "2020-05-14T16:31:09.516Z"
        }
      }
    },
    {
      "cell_type": "code",
      "source": [
        "data_car_A1 = pd.read_csv(\"108年度A1類交通事故資料.csv\")\n",
        "for 縣市 in GeoJsonArr:\n",
        "    modified_data = data_car_A1[data_car_A1[\"發生地點\"].str[:3]==縣市[:3]]\n",
        "    with open(縣市[:3]+\"_A1.csv\", \"w\") as f:\n",
        "      f.write(modified_data.to_csv())"
      ],
      "outputs": [],
      "execution_count": 30,
      "metadata": {
        "collapsed": true,
        "outputExpanded": false,
        "jupyter": {
          "source_hidden": false,
          "outputs_hidden": false
        },
        "nteract": {
          "transient": {
            "deleting": false
          }
        },
        "execution": {
          "iopub.status.busy": "2020-05-14T16:35:43.264Z",
          "iopub.execute_input": "2020-05-14T16:35:43.267Z",
          "iopub.status.idle": "2020-05-14T16:35:43.318Z",
          "shell.execute_reply": "2020-05-14T16:35:43.321Z"
        }
      }
    },
    {
      "cell_type": "code",
      "source": [
        "with open(\"鄉鎮市區行政區域界線.json\", \"r\") as f:\n",
        "      JSON_file = json.load(f)\n",
        "for 縣市 in GeoJsonArr:\n",
        "  building_position = []\n",
        "  geojson = {\"type\": \"FeatureCollection\",\"features\":[]}\n",
        "  output_dict = [x for x in JSON_file[\"features\"] if x[\"properties\"][\"C_Name\"] == 縣市[:3]]\n",
        "  for feature in output_dict:\n",
        "      geojson[\"features\"].append(feature)\n",
        "  with open(縣市[:3]+\"_區域界線.json\", 'w') as f:\n",
        "    f.write(json.dumps(geojson))"
      ],
      "outputs": [],
      "execution_count": 6,
      "metadata": {
        "collapsed": true,
        "outputExpanded": false,
        "jupyter": {
          "source_hidden": false,
          "outputs_hidden": false
        },
        "nteract": {
          "transient": {
            "deleting": false
          }
        },
        "execution": {
          "iopub.status.busy": "2020-05-14T17:30:00.317Z",
          "iopub.execute_input": "2020-05-14T17:30:00.321Z",
          "iopub.status.idle": "2020-05-14T17:30:02.916Z",
          "shell.execute_reply": "2020-05-14T17:30:02.920Z"
        }
      }
    },
    {
      "cell_type": "code",
      "source": [],
      "outputs": [],
      "execution_count": null,
      "metadata": {
        "collapsed": true,
        "outputExpanded": false,
        "jupyter": {
          "source_hidden": false,
          "outputs_hidden": false
        },
        "nteract": {
          "transient": {
            "deleting": false
          }
        }
      }
    }
  ],
  "metadata": {
    "kernel_info": {
      "name": "python3"
    },
    "language_info": {
      "name": "python",
      "version": "3.7.4",
      "mimetype": "text/x-python",
      "codemirror_mode": {
        "name": "ipython",
        "version": 3
      },
      "pygments_lexer": "ipython3",
      "nbconvert_exporter": "python",
      "file_extension": ".py"
    },
    "kernelspec": {
      "argv": [
        "/usr/local/anaconda3/bin/python",
        "-m",
        "ipykernel_launcher",
        "-f",
        "{connection_file}"
      ],
      "display_name": "Python 3",
      "language": "python",
      "name": "python3"
    },
    "nteract": {
      "version": "0.23.1"
    }
  },
  "nbformat": 4,
  "nbformat_minor": 0
}