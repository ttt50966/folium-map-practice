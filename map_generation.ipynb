{
  "cells": [
    {
      "cell_type": "markdown",
      "source": [
        "# 風險地圖"
      ],
      "metadata": {
        "nteract": {
          "transient": {
            "deleting": false
          }
        }
      }
    },
    {
      "cell_type": "code",
      "source": [
        "import os\n",
        "import pandas as pd\n",
        "import folium\n",
        "import json\n",
        "import geopandas\n",
        "from folium import plugins\n",
        "from folium.plugins import MarkerCluster, Search\n",
        "from folium.plugins import HeatMap\n",
        "from json2html import *\n",
        "from geojson_utils import *\n",
        "from bs4 import BeautifulSoup\n",
        "import numpy as np\n",
        "import html\n",
        "data = pd.read_csv(\"106年火災事件資料.csv\")\n",
        "GeoJsonArr = [file for file in os.listdir(\"./建築執照資料整理\") if file.endswith(\"geo.json\")]\n",
        "len(GeoJsonArr)"
      ],
      "outputs": [
        {
          "output_type": "execute_result",
          "execution_count": 1,
          "data": {
            "text/plain": [
              "21"
            ]
          },
          "metadata": {}
        }
      ],
      "execution_count": 1,
      "metadata": {
        "execution": {
          "iopub.execute_input": "2020-05-29T19:51:33.681Z",
          "iopub.status.busy": "2020-05-29T19:51:33.675Z",
          "iopub.status.idle": "2020-05-29T19:51:36.093Z",
          "shell.execute_reply": "2020-05-29T19:51:36.109Z"
        },
        "nteract": {
          "transient": {
            "deleting": false
          }
        },
        "outputExpanded": false
      }
    },
    {
      "cell_type": "code",
      "source": [
        "GeoJsonArr[1][:3]"
      ],
      "outputs": [
        {
          "output_type": "execute_result",
          "execution_count": 2,
          "data": {
            "text/plain": [
              "'臺中市'"
            ]
          },
          "metadata": {}
        }
      ],
      "execution_count": 2,
      "metadata": {
        "execution": {
          "iopub.execute_input": "2020-05-29T19:51:38.102Z",
          "iopub.status.busy": "2020-05-29T19:51:38.098Z",
          "iopub.status.idle": "2020-05-29T19:51:38.112Z",
          "shell.execute_reply": "2020-05-29T19:51:38.117Z"
        },
        "nteract": {
          "transient": {
            "deleting": false
          }
        },
        "outputExpanded": false
      }
    },
    {
      "cell_type": "markdown",
      "source": [
        "## 統計各區域火災數量 (106年)"
      ],
      "metadata": {
        "nteract": {
          "transient": {
            "deleting": false
          }
        }
      }
    },
    {
      "cell_type": "code",
      "source": [
        "data_modified = data[(data[\"縣市\"]!=\"高雄港\") & (data[\"縣市\"]!=\"臺中港\")& (data[\"縣市\"]!=\"基隆港\")]\n",
        "df = pd.DataFrame()\n",
        "df[\"區域\"] = pd.Series(data_modified[\"鄉_鎮_市_區\"].value_counts().index.values)\n",
        "df[\"數量\"] = pd.Series(data_modified[\"鄉_鎮_市_區\"].value_counts().values)\n",
        "df"
      ],
      "outputs": [
        {
          "output_type": "execute_result",
          "execution_count": 3,
          "data": {
            "text/plain": [
              "      區域   數量\n",
              "0    沙鹿區  401\n",
              "1     南區  393\n",
              "2    安南區  381\n",
              "3    彰化市  350\n",
              "4    中山區  347\n",
              "..   ...  ...\n",
              "350  鹿野鄉    2\n",
              "351  茂林區    2\n",
              "352  鹿谷鄉    1\n",
              "353  泰武鄉    1\n",
              "354  西區     1\n",
              "\n",
              "[355 rows x 2 columns]"
            ],
            "text/html": [
              "<div>\n",
              "<style scoped>\n",
              "    .dataframe tbody tr th:only-of-type {\n",
              "        vertical-align: middle;\n",
              "    }\n",
              "\n",
              "    .dataframe tbody tr th {\n",
              "        vertical-align: top;\n",
              "    }\n",
              "\n",
              "    .dataframe thead th {\n",
              "        text-align: right;\n",
              "    }\n",
              "</style>\n",
              "<table border=\"1\" class=\"dataframe\">\n",
              "  <thead>\n",
              "    <tr style=\"text-align: right;\">\n",
              "      <th></th>\n",
              "      <th>區域</th>\n",
              "      <th>數量</th>\n",
              "    </tr>\n",
              "  </thead>\n",
              "  <tbody>\n",
              "    <tr>\n",
              "      <td>0</td>\n",
              "      <td>沙鹿區</td>\n",
              "      <td>401</td>\n",
              "    </tr>\n",
              "    <tr>\n",
              "      <td>1</td>\n",
              "      <td>南區</td>\n",
              "      <td>393</td>\n",
              "    </tr>\n",
              "    <tr>\n",
              "      <td>2</td>\n",
              "      <td>安南區</td>\n",
              "      <td>381</td>\n",
              "    </tr>\n",
              "    <tr>\n",
              "      <td>3</td>\n",
              "      <td>彰化市</td>\n",
              "      <td>350</td>\n",
              "    </tr>\n",
              "    <tr>\n",
              "      <td>4</td>\n",
              "      <td>中山區</td>\n",
              "      <td>347</td>\n",
              "    </tr>\n",
              "    <tr>\n",
              "      <td>...</td>\n",
              "      <td>...</td>\n",
              "      <td>...</td>\n",
              "    </tr>\n",
              "    <tr>\n",
              "      <td>350</td>\n",
              "      <td>鹿野鄉</td>\n",
              "      <td>2</td>\n",
              "    </tr>\n",
              "    <tr>\n",
              "      <td>351</td>\n",
              "      <td>茂林區</td>\n",
              "      <td>2</td>\n",
              "    </tr>\n",
              "    <tr>\n",
              "      <td>352</td>\n",
              "      <td>鹿谷鄉</td>\n",
              "      <td>1</td>\n",
              "    </tr>\n",
              "    <tr>\n",
              "      <td>353</td>\n",
              "      <td>泰武鄉</td>\n",
              "      <td>1</td>\n",
              "    </tr>\n",
              "    <tr>\n",
              "      <td>354</td>\n",
              "      <td>西區</td>\n",
              "      <td>1</td>\n",
              "    </tr>\n",
              "  </tbody>\n",
              "</table>\n",
              "<p>355 rows × 2 columns</p>\n",
              "</div>"
            ]
          },
          "metadata": {}
        }
      ],
      "execution_count": 3,
      "metadata": {
        "execution": {
          "iopub.execute_input": "2020-05-29T19:51:40.417Z",
          "iopub.status.busy": "2020-05-29T19:51:40.412Z",
          "iopub.status.idle": "2020-05-29T19:51:40.439Z",
          "shell.execute_reply": "2020-05-29T19:51:40.446Z"
        },
        "nteract": {
          "transient": {
            "deleting": false
          }
        },
        "outputExpanded": false
      }
    },
    {
      "cell_type": "code",
      "source": [
        "for 縣市 in GeoJsonArr:\n",
        "  data_modified = data[data[\"縣市\"]==縣市[:3]]\n",
        "  df = pd.DataFrame()\n",
        "  df[\"區域\"] = pd.Series(data_modified[\"鄉_鎮_市_區\"].value_counts().index.values)\n",
        "  df[\"數量\"] = pd.Series(data_modified[\"鄉_鎮_市_區\"].value_counts().values)\n",
        "  data_car_A1 = pd.read_csv(縣市[:3]+\"_A1.csv\")\n",
        "  data_car_A2 = pd.read_csv(縣市[:3]+\"_A2.csv\")\n",
        "  data_car_pos_A1 = data_car_A1[[\"經度\",\"緯度\",\"車種\",\"死亡受傷人數\"]]\n",
        "  data_car_pos_A1 = data_car_A1.dropna(axis=0, how='any')\n",
        "  data_car_pos_A2 = data_car_A2[[\"經度\",\"緯度\",\"車種\",\"死亡受傷人數\"]]\n",
        "  data_car_pos_A2 = data_car_A2.dropna(axis=0, how='any')\n",
        "  Total_map = folium.Map(location=[23.58,121], zoom_start=7)\n",
        "  marker_cluster = MarkerCluster(name=\"A1車禍統計\").add_to(Total_map)\n",
        "  with open(縣市[:3]+\"_區域界線.json\", \"r\") as f:\n",
        "      multipoly = json.load(f)\n",
        "\n",
        "  folium.Choropleth(\n",
        "      geo_data=縣市[:3]+\"_區域界線.json\",\n",
        "      name='火災事件',\n",
        "      data = df,\n",
        "      fill_color='YlGnBu',\n",
        "      fill_opacity=0.5,\n",
        "      columns=[\"區域\",\"數量\"],\n",
        "      key_on='feature.properties.T_Name',\n",
        "  ).add_to(Total_map)\n",
        "\n",
        "  死亡人數 = []\n",
        "  受傷人數 = []\n",
        "  for item in data_car_pos_A1[\"死亡受傷人數\"].str[:].values:\n",
        "    死亡人數.append(float(item.split(\";\")[0][2:]))\n",
        "    受傷人數.append(float(item.split(\";\")[1][2:]))\n",
        "  for item in data_car_pos_A2[\"死亡受傷人數\"].str[:].values:\n",
        "    死亡人數.append(float(item.split(\";\")[0][2:]))\n",
        "    受傷人數.append(float(item.split(\";\")[1][2:]))\n",
        "  嚴重程度 =  np.array(死亡人數)*10 + np.array(受傷人數)\n",
        "  車禍 = zip(np.concatenate((data_car_pos_A1[\"緯度\"].values,data_car_pos_A2[\"緯度\"].values)),\n",
        "          np.concatenate((data_car_pos_A1[\"經度\"].values,data_car_pos_A2[\"經度\"].values)),\n",
        "          嚴重程度)\n",
        "  HeatMap(車禍,radius = 12).add_to(folium.FeatureGroup(name=\"Heat Map\").add_to(Total_map))\n",
        "\n",
        "  with open(\"./建築執照資料整理/\"+縣市, \"r\") as f:\n",
        "      JSON_file = json.load(f)\n",
        "  building= geopandas.read_file(\"./建築執照資料整理/\"+縣市)\n",
        "  addressgeo = folium.GeoJson(\n",
        "    JSON_file,\n",
        "    name='建築位置',\n",
        "    show=False\n",
        "  ).add_to(Total_map)\n",
        "\n",
        "  statesearch = Search(\n",
        "    layer=addressgeo,\n",
        "    geom_type='Points',\n",
        "    placeholder='搜尋地址',\n",
        "    collapsed=False,\n",
        "    search_label='地址',\n",
        "    search_zoom=17,\n",
        "    weight=3,\n",
        "    #tooltip=folium.GeoJsonTooltip(fields=[\"地址\"],aliases=[\"地址\"])\n",
        "  ).add_to(Total_map)\n",
        "\n",
        "  marker_cluster = MarkerCluster(name=\"建築標記\").add_to(Total_map)\n",
        "  address_list=[]\n",
        "\n",
        "  for i in range(len(building)):\n",
        "      try:\n",
        "          popuptext = \"<h4>{}</h4>{}\".format(JSON_file[\"features\"][i][\"properties\"][\"地址\"]\n",
        "                                           ,json2html.convert(json = JSON_file[\"features\"][i][\"properties\"][\"樓層概要\"]))\n",
        "      except:\n",
        "          popuptext = \"<h4>{}</h4>\".format(JSON_file[\"features\"][i][\"properties\"][\"地址\"])\n",
        "      test = folium.Html(popuptext, script=True)\n",
        "      popup = folium.Popup(test, max_width=300,min_width=300)\n",
        "      folium.Marker(\n",
        "          popup = popup,\n",
        "          location=[building[\"經緯\"].values[i].split(\",\")[0],building[\"經緯\"].values[i].split(\",\")[1]],\n",
        "          icon=folium.Icon(color='darkgreen', icon='home', prefix='fa')).add_to(marker_cluster)\n",
        "\n",
        "  folium.LayerControl().add_to(Total_map)\n",
        "\n",
        "\n",
        "  Total_map.save(縣市[:3]+'.html')"
      ],
      "outputs": [],
      "execution_count": 4,
      "metadata": {
        "collapsed": true,
        "outputExpanded": false,
        "jupyter": {
          "source_hidden": false,
          "outputs_hidden": false
        },
        "nteract": {
          "transient": {
            "deleting": false
          }
        },
        "execution": {
          "iopub.status.busy": "2020-05-29T19:51:43.510Z",
          "iopub.execute_input": "2020-05-29T19:51:43.516Z",
          "iopub.status.idle": "2020-05-29T19:53:01.858Z",
          "shell.execute_reply": "2020-05-29T19:53:01.907Z"
        }
      }
    },
    {
      "cell_type": "code",
      "source": [
        "GeoJsonArr[0:1]"
      ],
      "outputs": [
        {
          "output_type": "execute_result",
          "execution_count": 5,
          "data": {
            "text/plain": [
              "['桃園市107_geo.json']"
            ]
          },
          "metadata": {}
        }
      ],
      "execution_count": 5,
      "metadata": {
        "collapsed": true,
        "outputExpanded": false,
        "jupyter": {
          "source_hidden": false,
          "outputs_hidden": false
        },
        "nteract": {
          "transient": {
            "deleting": false
          }
        },
        "execution": {
          "iopub.status.busy": "2020-05-29T19:53:01.867Z",
          "iopub.execute_input": "2020-05-29T19:53:01.874Z",
          "iopub.status.idle": "2020-05-29T19:53:01.885Z",
          "shell.execute_reply": "2020-05-29T19:53:01.911Z"
        }
      }
    },
    {
      "cell_type": "code",
      "source": [
        "for 縣市 in GeoJsonArr:\n",
        "  html_file = open(縣市[:3]+\".html\").read()\n",
        "  soup = BeautifulSoup(html_file)\n",
        "  script = \"\"\"\n",
        "  <!-- Core Build -->\n",
        "  <script src=\"https://cdn-geoweb.s3.amazonaws.com/esri-leaflet/1.0.0-rc.2/esri-leaflet-core.js\"></script>\n",
        "\n",
        "  <!-- Basemaps Only Build -->\n",
        "  <script src=\"https://cdn-geoweb.s3.amazonaws.com/esri-leaflet/1.0.0-rc.2/esri-leaflet-basemaps.js\"></script>\n",
        "\n",
        "  <!-- Feature Layer Only Build -->\n",
        "  <script src=\"https://cdn-geoweb.s3.amazonaws.com/esri-leaflet/1.0.0-rc.2/esri-leaflet-feature-layer.js\"></script>\n",
        "\n",
        "  <!-- Map Service Only Build -->\n",
        "  <script src=\"https://cdn-geoweb.s3.amazonaws.com/esri-leaflet/1.0.0-rc.2/esri-leaflet-map-service.js\"></script>\n",
        "\n",
        "  <!-- Heatmap Feature Layer -->\n",
        "  <script src=\"https://cdn-geoweb.s3.amazonaws.com/esri-leaflet-heatmap-feature-layer/1.0.0-rc.2/esri-leaflet-heatmap-feature-layer.js\"></script>\n",
        "\n",
        "  <!-- Clustered Feature Layer -->\n",
        "  <script src=\"https://cdn-geoweb.s3.amazonaws.com/esri-leaflet-clustered-feature-layer/1.0.0-rc.2/esri-leaflet-clustered-feature-layer.js\"></script>\n",
        "\n",
        "  <!-- Geocoding Control -->\n",
        "  <script src=\"https://cdn-geoweb.s3.amazonaws.com/esri-leaflet-geocoder/0.0.1-beta.5/esri-leaflet-geocoder.js\"></script>\n",
        "  <link rel=\"stylesheet\" type=\"text/css\" href=\"http://cdn-geoweb.s3.amazonaws.com/esri-leaflet-geocoder/0.0.1-beta.5/esri-leaflet-geocoder.css\">\n",
        "  \"\"\"\n",
        "  script2 = \"\"\"var searchControl = new L.esri.Controls.Geosearch().addTo(map);\n",
        "\n",
        "    var results = new L.LayerGroup().addTo(map);\n",
        "\n",
        "    searchControl.on('results', function(data){\n",
        "      /*results.clearLayers();*/\n",
        "      for (var i = data.results.length - 1; i >= 0; i--) {\n",
        "        results.addLayer(L.marker(data.results[i].latlng));\n",
        "      }\n",
        "    });\n",
        "  \"\"\"\n",
        "  soup.head.style.insert_after(soup.new_string(script.replace(\"map\",soup.body.div[\"id\"])))\n",
        "  with open(縣市[:3]+\"_search.html\", \"w\") as f:\n",
        "    f.write(html.unescape(str(soup)[:-16])+\n",
        "            script2.replace(\"map\",soup.body.div[\"id\"])+\n",
        "            html.unescape(str(soup)[-16:]))"
      ],
      "outputs": [],
      "execution_count": 6,
      "metadata": {
        "collapsed": true,
        "jupyter": {
          "source_hidden": false,
          "outputs_hidden": false
        },
        "nteract": {
          "transient": {
            "deleting": false
          }
        },
        "execution": {
          "iopub.status.busy": "2020-05-29T19:53:01.895Z",
          "iopub.execute_input": "2020-05-29T19:53:01.901Z",
          "iopub.status.idle": "2020-05-29T19:53:09.575Z",
          "shell.execute_reply": "2020-05-29T19:53:09.565Z"
        }
      }
    },
    {
      "cell_type": "code",
      "source": [],
      "outputs": [],
      "execution_count": null,
      "metadata": {
        "collapsed": true,
        "jupyter": {
          "source_hidden": false,
          "outputs_hidden": false
        },
        "nteract": {
          "transient": {
            "deleting": false
          }
        }
      }
    }
  ],
  "metadata": {
    "kernel_info": {
      "name": "python3"
    },
    "kernelspec": {
      "display_name": "Python 3",
      "language": "python",
      "name": "python3"
    },
    "language_info": {
      "name": "python",
      "version": "3.7.4",
      "mimetype": "text/x-python",
      "codemirror_mode": {
        "name": "ipython",
        "version": 3
      },
      "pygments_lexer": "ipython3",
      "nbconvert_exporter": "python",
      "file_extension": ".py"
    },
    "nteract": {
      "version": "0.23.3"
    }
  },
  "nbformat": 4,
  "nbformat_minor": 4
}