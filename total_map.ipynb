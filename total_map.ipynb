{
  "cells": [
    {
      "cell_type": "markdown",
      "source": [
        "# 風險地圖"
      ],
      "metadata": {
        "nteract": {
          "transient": {
            "deleting": false
          }
        }
      }
    },
    {
      "cell_type": "code",
      "source": [
        "import pandas as pd\n",
        "import folium\n",
        "import json\n",
        "import geopandas\n",
        "import folium\n",
        "from folium.plugins import MarkerCluster, Search\n",
        "from json2html import *\n",
        "data = pd.read_csv(\"106年火災事件資料.csv\")\n",
        "data_car_A1 =  pd.read_csv(\"108年度A1類交通事故資料.csv\")\n",
        "data_car_A2 = pd.read_csv(\"108年度A1類交通事故資料.csv\")"
      ],
      "outputs": [],
      "execution_count": 1,
      "metadata": {
        "execution": {
          "iopub.execute_input": "2020-05-13T03:18:08.562Z",
          "iopub.status.busy": "2020-05-13T03:18:08.556Z",
          "iopub.status.idle": "2020-05-13T03:18:11.690Z",
          "shell.execute_reply": "2020-05-13T03:18:11.694Z"
        },
        "nteract": {
          "transient": {
            "deleting": false
          }
        },
        "outputExpanded": false
      }
    },
    {
      "cell_type": "markdown",
      "source": [
        "## 統計各區域火災數量 (106年)"
      ],
      "metadata": {
        "nteract": {
          "transient": {
            "deleting": false
          }
        }
      }
    },
    {
      "cell_type": "code",
      "source": [
        "data_modified = data[(data[\"縣市\"]!=\"高雄港\") & (data[\"縣市\"]!=\"臺中港\")]\n",
        "df = pd.DataFrame()\n",
        "df[\"區域\"] = pd.Series(data_modified[\"鄉_鎮_市_區\"].value_counts().index.values)\n",
        "df[\"數量\"] = pd.Series(data_modified[\"鄉_鎮_市_區\"].value_counts().values)\n",
        "df"
      ],
      "outputs": [
        {
          "output_type": "execute_result",
          "execution_count": 2,
          "data": {
            "text/plain": [
              "      區域   數量\n",
              "0    沙鹿區  401\n",
              "1     南區  393\n",
              "2    安南區  381\n",
              "3    彰化市  350\n",
              "4    中山區  347\n",
              "..   ...  ...\n",
              "350  茂林區    2\n",
              "351  大同鄉    2\n",
              "352  鹿谷鄉    1\n",
              "353  泰武鄉    1\n",
              "354  西區     1\n",
              "\n",
              "[355 rows x 2 columns]"
            ],
            "text/html": [
              "<div>\n",
              "<style scoped>\n",
              "    .dataframe tbody tr th:only-of-type {\n",
              "        vertical-align: middle;\n",
              "    }\n",
              "\n",
              "    .dataframe tbody tr th {\n",
              "        vertical-align: top;\n",
              "    }\n",
              "\n",
              "    .dataframe thead th {\n",
              "        text-align: right;\n",
              "    }\n",
              "</style>\n",
              "<table border=\"1\" class=\"dataframe\">\n",
              "  <thead>\n",
              "    <tr style=\"text-align: right;\">\n",
              "      <th></th>\n",
              "      <th>區域</th>\n",
              "      <th>數量</th>\n",
              "    </tr>\n",
              "  </thead>\n",
              "  <tbody>\n",
              "    <tr>\n",
              "      <td>0</td>\n",
              "      <td>沙鹿區</td>\n",
              "      <td>401</td>\n",
              "    </tr>\n",
              "    <tr>\n",
              "      <td>1</td>\n",
              "      <td>南區</td>\n",
              "      <td>393</td>\n",
              "    </tr>\n",
              "    <tr>\n",
              "      <td>2</td>\n",
              "      <td>安南區</td>\n",
              "      <td>381</td>\n",
              "    </tr>\n",
              "    <tr>\n",
              "      <td>3</td>\n",
              "      <td>彰化市</td>\n",
              "      <td>350</td>\n",
              "    </tr>\n",
              "    <tr>\n",
              "      <td>4</td>\n",
              "      <td>中山區</td>\n",
              "      <td>347</td>\n",
              "    </tr>\n",
              "    <tr>\n",
              "      <td>...</td>\n",
              "      <td>...</td>\n",
              "      <td>...</td>\n",
              "    </tr>\n",
              "    <tr>\n",
              "      <td>350</td>\n",
              "      <td>茂林區</td>\n",
              "      <td>2</td>\n",
              "    </tr>\n",
              "    <tr>\n",
              "      <td>351</td>\n",
              "      <td>大同鄉</td>\n",
              "      <td>2</td>\n",
              "    </tr>\n",
              "    <tr>\n",
              "      <td>352</td>\n",
              "      <td>鹿谷鄉</td>\n",
              "      <td>1</td>\n",
              "    </tr>\n",
              "    <tr>\n",
              "      <td>353</td>\n",
              "      <td>泰武鄉</td>\n",
              "      <td>1</td>\n",
              "    </tr>\n",
              "    <tr>\n",
              "      <td>354</td>\n",
              "      <td>西區</td>\n",
              "      <td>1</td>\n",
              "    </tr>\n",
              "  </tbody>\n",
              "</table>\n",
              "<p>355 rows × 2 columns</p>\n",
              "</div>"
            ]
          },
          "metadata": {}
        }
      ],
      "execution_count": 2,
      "metadata": {
        "execution": {
          "iopub.execute_input": "2020-05-13T03:18:11.704Z",
          "iopub.status.busy": "2020-05-13T03:18:11.699Z",
          "iopub.status.idle": "2020-05-13T03:18:11.725Z",
          "shell.execute_reply": "2020-05-13T03:18:11.739Z"
        },
        "nteract": {
          "transient": {
            "deleting": false
          }
        },
        "outputExpanded": false
      }
    },
    {
      "cell_type": "markdown",
      "source": [
        "## 統計車禍發生地點 (107年)"
      ],
      "metadata": {
        "nteract": {
          "transient": {
            "deleting": false
          }
        }
      }
    },
    {
      "cell_type": "code",
      "source": [
        "data_car_pos_A1 = data_car_A1[[\"經度\",\"緯度\",\"車種\",\"死亡受傷人數\"]]\n",
        "data_car_pos_A1 = data_car_A1.dropna(axis=0, how='any')\n",
        "data_car_pos_A2 = data_car_A1[[\"經度\",\"緯度\",\"車種\",\"死亡受傷人數\"]]\n",
        "data_car_pos_A2 = data_car_A1.dropna(axis=0, how='any')\n",
        "for item in data_car_pos_A1.values.tolist()[:3]:\n",
        "    print(\"車種:{}<br>死亡人數:{}\".format(item[3],item[2]))"
      ],
      "outputs": [
        {
          "output_type": "stream",
          "name": "stdout",
          "text": [
            "車種:普通重型-機車;自用-小貨車(含客、貨兩用)<br>死亡人數:死亡1;受傷0\n",
            "車種:普通重型-機車<br>死亡人數:死亡1;受傷0\n",
            "車種:大型重型1(550C.C.以上)-機車<br>死亡人數:死亡1;受傷0\n"
          ]
        }
      ],
      "execution_count": 12,
      "metadata": {
        "execution": {
          "iopub.execute_input": "2020-05-13T03:24:34.662Z",
          "iopub.status.busy": "2020-05-13T03:24:34.658Z",
          "iopub.status.idle": "2020-05-13T03:24:34.669Z",
          "shell.execute_reply": "2020-05-13T03:24:34.678Z"
        },
        "nteract": {
          "transient": {
            "deleting": false
          }
        },
        "outputExpanded": false
      }
    },
    {
      "cell_type": "code",
      "source": [
        "from folium.plugins import MarkerCluster\n",
        "Taiwan_car_map = folium.Map(location=[23.58,121], zoom_start=7)\n",
        "marker_cluster = MarkerCluster().add_to(Taiwan_car_map)\n",
        "\n",
        "for item in data_car_pos_A1.values.tolist():\n",
        "    popuptext = \"<h4>車種:</h4> {}<br><h4>死亡人數:</h4>{}\".format(item[2],item[3])\n",
        "    test = folium.Html(popuptext, script=True)\n",
        "    popup = folium.Popup(test, max_width=300,min_width=300)\n",
        "    folium.Marker(\n",
        "        location=[item[5],item[4]],\n",
        "        popup = popup,\n",
        "        icon=None).add_to(marker_cluster)\n",
        "Taiwan_car_map.save('Folium_車禍統計.html')    \n",
        "#Taiwan_car_map"
      ],
      "outputs": [],
      "execution_count": 5,
      "metadata": {
        "execution": {
          "iopub.execute_input": "2020-04-28T09:20:09.452Z",
          "iopub.status.busy": "2020-04-28T09:20:09.450Z",
          "iopub.status.idle": "2020-04-28T09:20:11.103Z",
          "shell.execute_reply": "2020-04-28T09:20:11.107Z"
        },
        "nteract": {
          "transient": {
            "deleting": false
          }
        },
        "outputExpanded": false
      }
    },
    {
      "cell_type": "code",
      "source": [
        "Taiwan_map = folium.Map(location=[23.58,121], zoom_start=7)\n",
        "folium.Choropleth(\n",
        "    geo_data=\"鄉鎮市區行政區域界線.json\",\n",
        "    name='choropleth',\n",
        "    data = df,\n",
        "    fill_color='YlGnBu',\n",
        "    columns=[\"區域\",\"數量\"],\n",
        "    key_on='feature.properties.T_Name',\n",
        ").add_to(Taiwan_map)\n",
        "\n",
        "#display(Taiwan_map)\n",
        "Taiwan_map.save('Folium_火災統計.html')"
      ],
      "outputs": [],
      "execution_count": 6,
      "metadata": {
        "execution": {
          "iopub.execute_input": "2020-04-27T18:06:52.431Z",
          "iopub.status.busy": "2020-04-27T18:06:52.424Z",
          "iopub.status.idle": "2020-04-27T18:07:01.520Z",
          "shell.execute_reply": "2020-04-27T18:07:01.522Z"
        },
        "nteract": {
          "transient": {
            "deleting": false
          }
        },
        "outputExpanded": false
      }
    },
    {
      "cell_type": "code",
      "source": [
        "Total_map = folium.Map(location=[23.58,121], zoom_start=7)\n",
        "marker_cluster = MarkerCluster(name=\"A1車禍統計\").add_to(Total_map)\n",
        "\n",
        "for item in data_car_pos_A1.values.tolist():\n",
        "    popuptext = \"<h4>車種:</h4> {}<br><h4>死亡人數:</h4>{}\".format(item[3],item[2])\n",
        "    test = folium.Html(popuptext, script=True)\n",
        "    popup = folium.Popup(test, max_width=300,min_width=300)\n",
        "    folium.Marker(\n",
        "        location=[item[5],item[4]],\n",
        "        popup = popup,\n",
        "        icon=folium.Icon(color='darkred', icon='car', prefix='fa')).add_to(marker_cluster)\n",
        "    \n",
        "marker_cluster = MarkerCluster(name=\"A2車禍統計\").add_to(Total_map)\n",
        "\n",
        "for item in data_car_pos_A2.values.tolist():\n",
        "    popuptext = \"<h4>車種:</h4> {}<br><h4>死亡人數:</h4>{}\".format(item[3],item[2])\n",
        "    test = folium.Html(popuptext, script=True)\n",
        "    popup = folium.Popup(test, max_width=300,min_width=300)\n",
        "    folium.Marker(\n",
        "        location=[item[5],item[4]],\n",
        "        popup = popup,\n",
        "        icon=folium.Icon(color='darkred', icon='car', prefix='fa')).add_to(marker_cluster)\n",
        "    \n",
        "folium.Choropleth(\n",
        "    geo_data=\"鄉鎮市區行政區域界線.json\",\n",
        "    name='火災事件',\n",
        "    data = df,\n",
        "    fill_color='YlGnBu',\n",
        "    columns=[\"區域\",\"數量\"],\n",
        "    key_on='feature.properties.T_Name',\n",
        ").add_to(Total_map)\n",
        "\n",
        "with open(\"彰化縣107_geo.json\", \"r\") as f:\n",
        "    JSON_file = json.load(f)\n",
        "building= geopandas.read_file(\"彰化縣107_geo.json\")\n",
        "addressgeo = folium.GeoJson(\n",
        "    JSON_file,\n",
        "    name='建築位置',\n",
        "    show=False\n",
        ").add_to(Total_map)\n",
        "\n",
        "statesearch = Search(\n",
        "    layer=addressgeo,\n",
        "    geom_type='Points',\n",
        "    placeholder='搜尋地址',\n",
        "    collapsed=False,\n",
        "    search_label='地址',\n",
        "    search_zoom=17,\n",
        "    weight=3,\n",
        "    #tooltip=folium.GeoJsonTooltip(fields=[\"地址\"],aliases=[\"地址\"])\n",
        ").add_to(Total_map)\n",
        "\n",
        "marker_cluster = MarkerCluster(name=\"建築標記\").add_to(Total_map)\n",
        "address_list=[]\n",
        "\n",
        "for i in range(len(building)):\n",
        "    try:\n",
        "        popuptext = \"<h4>{}</h4>{}\".format(JSON_file[\"features\"][i][\"properties\"][\"地址\"]\n",
        "                                           ,json2html.convert(json = JSON_file[\"features\"][i][\"properties\"][\"樓層概要\"]))\n",
        "    except:\n",
        "        popuptext = \"<h4>{}</h4>\".format(JSON_file[\"features\"][i][\"properties\"][\"地址\"])\n",
        "    test = folium.Html(popuptext, script=True)\n",
        "    popup = folium.Popup(test, max_width=300,min_width=300)\n",
        "    folium.Marker(\n",
        "      popup = popup,\n",
        "      location=[building[\"經緯\"].values[i].split(\",\")[0],building[\"經緯\"].values[i].split(\",\")[1]],\n",
        "      icon=folium.Icon(color='darkgreen', icon='home', prefix='fa')).add_to(marker_cluster)\n",
        "    \n",
        "folium.LayerControl().add_to(Total_map)\n",
        "\n",
        "\n",
        "Total_map.save('index.html')"
      ],
      "outputs": [],
      "execution_count": 15,
      "metadata": {
        "execution": {
          "iopub.execute_input": "2020-05-13T03:25:45.892Z",
          "iopub.status.busy": "2020-05-13T03:25:45.887Z",
          "iopub.status.idle": "2020-05-13T03:26:04.017Z",
          "shell.execute_reply": "2020-05-13T03:26:04.020Z"
        },
        "nteract": {
          "transient": {
            "deleting": false
          }
        },
        "outputExpanded": false
      }
    },
    {
      "cell_type": "code",
      "source": [],
      "outputs": [],
      "execution_count": null,
      "metadata": {
        "collapsed": true,
        "jupyter": {
          "outputs_hidden": true,
          "source_hidden": false
        },
        "nteract": {
          "transient": {
            "deleting": false
          }
        },
        "outputExpanded": false
      }
    }
  ],
  "metadata": {
    "kernel_info": {
      "name": "python3"
    },
    "kernelspec": {
      "display_name": "Python 3",
      "language": "python",
      "name": "python3"
    },
    "language_info": {
      "name": "python",
      "version": "3.7.4",
      "mimetype": "text/x-python",
      "codemirror_mode": {
        "name": "ipython",
        "version": 3
      },
      "pygments_lexer": "ipython3",
      "nbconvert_exporter": "python",
      "file_extension": ".py"
    },
    "nteract": {
      "version": "0.23.1"
    }
  },
  "nbformat": 4,
  "nbformat_minor": 4
}